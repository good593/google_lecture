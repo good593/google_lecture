{
 "cells": [
  {
   "cell_type": "markdown",
   "metadata": {},
   "source": [
    "# [Fetch API 사용하기](https://developer.mozilla.org/ko/docs/Web/API/Fetch_API/Using_Fetch)\n",
    "- `Fetch API`는 HTTP 파이프라인을 구성하는 요청과 응답 등의 요소를 JavaScript에서 접근하고 조작할 수 있는 인터페이스를 제공합니다. \n",
    "- `Fetch API`가 제공하는 전역 fetch() 메서드로 네트워크의 리소스를 쉽게 비동기적으로 취득할 수도 있습니다.\n",
    "- 또한 `Fetch API`는 CORS를 포함한 고급 개념을 HTTP 확장으로 정의합니다."
   ]
  },
  {
   "cell_type": "markdown",
   "metadata": {},
   "source": [
    "# 데이터 요청하기"
   ]
  },
  {
   "cell_type": "markdown",
   "metadata": {},
   "source": [
    "```javascript\n",
    "const sendByApi = (method, url, params, success_fnc, failure_fnc) => {\n",
    "    let content_type = 'application/json'\n",
    "    let send_url = 'http://127.0.0.1:8000'+url\n",
    "    let options = {\n",
    "        method: method,\n",
    "        headers: {\n",
    "            \"Content-Type\": content_type\n",
    "        }\n",
    "    }\n",
    "    \n",
    "    if(method === 'get') {\n",
    "        send_url += \"?\" new URLSearchParams(params)\n",
    "    } else {\n",
    "        options['body'] = JSON.stringify(params)\n",
    "    }\n",
    "\n",
    "    fetch(send_url, options)\n",
    "        .then(response -> {\n",
    "            response.json()\n",
    "                // API 호출 성공 (서버 호출 성공)\n",
    "                .then(json => {\n",
    "                    // 요청 결과 성공 \n",
    "                    if(response.status >= 200 && response.status < 300) {  // 200 ~ 299\n",
    "                        if(success_callback) {\n",
    "                            success_callback(json)\n",
    "                        }\n",
    "                    }\n",
    "                    // 요청 결과 오류 \n",
    "                    else {\n",
    "                        if (failure_callback) {\n",
    "                            failure_callback(json)\n",
    "                        }else {\n",
    "                            alert(JSON.stringify(json))\n",
    "                        }\n",
    "                    }\n",
    "                })\n",
    "                // API 호출 오류 (서버 호출 오류)\n",
    "                .catch(error => {\n",
    "                    alert(JSON.stringify(error))\n",
    "                })\n",
    "        })\n",
    "\n",
    "}\n",
    "\n",
    "\n",
    "async function mainApi() {\n",
    "    try {\n",
    "        await sendByApi('get', '/python/hello', {}, (json) => {\n",
    "            hello = json\n",
    "            alert(hello['message']);\n",
    "        });\n",
    "    } catch(e) {\n",
    "        console.log(e);\n",
    "    }\n",
    "}\n",
    "\n",
    "mainApi();\n",
    "\n",
    "```"
   ]
  },
  {
   "cell_type": "markdown",
   "metadata": {},
   "source": [
    "# addEnventListener 적용하기"
   ]
  },
  {
   "cell_type": "markdown",
   "metadata": {},
   "source": [
    "```javascript\n",
    "const selectDatasBtn = document.querySelector(\"#selectDatas\");\n",
    "\n",
    "selectDatasBtn.addEventListener(\"click\", mainApi());\n",
    "```"
   ]
  },
  {
   "cell_type": "markdown",
   "metadata": {},
   "source": [
    "# 취득 요청 중단 \n",
    "> 아직 완료되지 않은 `fetch()` 작업을 취소하는 방법 "
   ]
  },
  {
   "cell_type": "markdown",
   "metadata": {},
   "source": [
    "```javascript\n",
    "const controller = new AbortController();\n",
    "const signal = controller.signal;\n",
    "const url = \"video.mp4\";\n",
    "\n",
    "const downloadBtn = document.querySelector(\"#download\");\n",
    "const abortBtn = document.querySelector(\"#abort\");\n",
    "\n",
    "downloadBtn.addEventListener(\"click\", async () => {\n",
    "  try {\n",
    "    const response = await fetch(url, { signal });\n",
    "    console.log(\"다운로드 완료\", response);\n",
    "  } catch (error) {\n",
    "    console.error(`다운로드 오류: ${error.message}`);\n",
    "  }\n",
    "});\n",
    "\n",
    "abortBtn.addEventListener(\"click\", () => {\n",
    "  controller.abort();\n",
    "  console.log(\"다운로드 중단됨\");\n",
    "});\n",
    "\n",
    "```"
   ]
  },
  {
   "cell_type": "markdown",
   "metadata": {},
   "source": [
    "# 파일 업로드 "
   ]
  },
  {
   "cell_type": "markdown",
   "metadata": {},
   "source": [
    "```javascript\n",
    "async function upload(formData) {\n",
    "  try {\n",
    "    const response = await fetch(\"https://example.com/profile/avatar\", {\n",
    "      method: \"PUT\",\n",
    "      body: formData,\n",
    "    });\n",
    "    const result = await response.json();\n",
    "    console.log(\"성공:\", result);\n",
    "  } catch (error) {\n",
    "    console.error(\"실패:\", error);\n",
    "  }\n",
    "}\n",
    "\n",
    "const formData = new FormData();\n",
    "const fileField = document.querySelector('input[type=\"file\"]');\n",
    "\n",
    "formData.append(\"username\", \"abc123\");\n",
    "formData.append(\"avatar\", fileField.files[0]);\n",
    "\n",
    "upload(formData);\n",
    "\n",
    "```"
   ]
  },
  {
   "cell_type": "markdown",
   "metadata": {},
   "source": [
    "## 다수의 파일 업로드 "
   ]
  },
  {
   "cell_type": "markdown",
   "metadata": {},
   "source": [
    "```javascript\n",
    "async function uploadMultiple(formData) {\n",
    "  try {\n",
    "    const response = await fetch(\"https://example.com/posts\", {\n",
    "      method: \"POST\",\n",
    "      body: formData,\n",
    "    });\n",
    "    const result = await response.json();\n",
    "    console.log(\"성공:\", result);\n",
    "  } catch (error) {\n",
    "    console.error(\"실패:\", error);\n",
    "  }\n",
    "}\n",
    "\n",
    "const photos = document.querySelector('input[type=\"file\"][multiple]');\n",
    "const formData = new FormData();\n",
    "\n",
    "formData.append(\"title\", \"My Vegas Vacation\");\n",
    "\n",
    "for (const [i, photo] of Array.from(photos.files).entries()) {\n",
    "  formData.append(`photos_${i}`, photo);\n",
    "}\n",
    "\n",
    "uploadMultiple(formData);\n",
    "\n",
    "```"
   ]
  },
  {
   "cell_type": "markdown",
   "metadata": {},
   "source": []
  }
 ],
 "metadata": {
  "language_info": {
   "name": "python"
  }
 },
 "nbformat": 4,
 "nbformat_minor": 2
}
