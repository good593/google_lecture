{
 "cells": [
  {
   "attachments": {},
   "cell_type": "markdown",
   "metadata": {},
   "source": [
    "# [마우스 사용하기](https://codetorial.net/pyautogui/mouse_control.html)"
   ]
  },
  {
   "cell_type": "code",
   "execution_count": 2,
   "metadata": {},
   "outputs": [],
   "source": [
    "import pyautogui "
   ]
  },
  {
   "attachments": {},
   "cell_type": "markdown",
   "metadata": {},
   "source": [
    "### 마우스 커서의 현재 위치와 모니터 크기 얻기 \n",
    "- position()     \n",
    "마우스 커서의 현재 위치를 (x,y) 튜플의 형태로 반환합니다.\n",
    "- size()      \n",
    "현재 메인 모니터의 크기를 (width, height) 튜플의 형태로 반환합니다."
   ]
  },
  {
   "cell_type": "code",
   "execution_count": 2,
   "metadata": {},
   "outputs": [
    {
     "data": {
      "text/plain": [
       "Point(x=545, y=514)"
      ]
     },
     "execution_count": 2,
     "metadata": {},
     "output_type": "execute_result"
    }
   ],
   "source": [
    "pyautogui.position()"
   ]
  },
  {
   "cell_type": "code",
   "execution_count": 3,
   "metadata": {},
   "outputs": [
    {
     "data": {
      "text/plain": [
       "Size(width=1512, height=982)"
      ]
     },
     "execution_count": 3,
     "metadata": {},
     "output_type": "execute_result"
    }
   ],
   "source": [
    "pyautogui.size()"
   ]
  },
  {
   "attachments": {},
   "cell_type": "markdown",
   "metadata": {},
   "source": [
    "### 마우스 이동과 클릭 \n",
    "- moveTo(<가로크기>, <세로크기>)\n",
    "- click()"
   ]
  },
  {
   "cell_type": "code",
   "execution_count": 5,
   "metadata": {},
   "outputs": [],
   "source": [
    "pyautogui.moveTo(200,200)\n",
    "pyautogui.click()"
   ]
  },
  {
   "attachments": {},
   "cell_type": "markdown",
   "metadata": {},
   "source": [
    "moveTo()와 click()을 한 번에 실행하려면 click()에 x, y 위치를 넣어주면 됩니다."
   ]
  },
  {
   "cell_type": "code",
   "execution_count": 7,
   "metadata": {},
   "outputs": [],
   "source": [
    "pyautogui.click(200,200)"
   ]
  },
  {
   "attachments": {},
   "cell_type": "markdown",
   "metadata": {},
   "source": [
    "더블 클릭 "
   ]
  },
  {
   "cell_type": "code",
   "execution_count": 3,
   "metadata": {},
   "outputs": [],
   "source": [
    "pyautogui.doubleClick()"
   ]
  },
  {
   "attachments": {},
   "cell_type": "markdown",
   "metadata": {},
   "source": [
    "### button 설정하기 \n",
    "- 클릭할 마우스 버튼을 선택하려면 buttone 키워드를 사용합니다.  \n",
    "- left, right, middle을 설정할 수 있습니다."
   ]
  },
  {
   "cell_type": "code",
   "execution_count": 8,
   "metadata": {},
   "outputs": [],
   "source": [
    "pyautogui.click(200,200, button='right')"
   ]
  },
  {
   "attachments": {},
   "cell_type": "markdown",
   "metadata": {},
   "source": [
    "### interval 설정하기 \n",
    "clicks 키워드는 클릭 횟수를, interval 키워드는 클릭 사이의 시간 간격을 설정해줍니다."
   ]
  },
  {
   "cell_type": "code",
   "execution_count": 9,
   "metadata": {},
   "outputs": [],
   "source": [
    "pyautogui.click(200, 200, clicks=2, interval=0.5)"
   ]
  },
  {
   "attachments": {},
   "cell_type": "markdown",
   "metadata": {},
   "source": [
    "### 마우스 드래그 \n",
    "- dragTo() 를 사용해서, x=300, y=300의 위치로 마우스 왼쪽 버튼을 클릭한 채로 드래그합니다.\n",
    "    - 세 번째 인수의 값을 넣어주면 드래그 시간을 설정하도록 합니다. 현재 커서 위치에서 x=400, y=400의 위치로 2초 동안 왼쪽 버튼을 누른 채로 드래그합니다.\n",
    "- dragRel() 을 이용하면 상대적 이동이 가능합니다. 현재 위치에서 x=30, y=0 만큼, 2초 동안 마우스 오른쪽 버튼을 누른 채로 드래그합니다.\n",
    "- button 키워드는 ‘left’, ‘right’, ‘middle’로 설정할 수 있습니다."
   ]
  },
  {
   "cell_type": "code",
   "execution_count": 5,
   "metadata": {},
   "outputs": [],
   "source": [
    "# 816,81 -> 539,80\n",
    "pyautogui.moveTo(816,81, 2)\n",
    "pyautogui.dragTo(539,80, 2, button='right')"
   ]
  },
  {
   "cell_type": "code",
   "execution_count": 6,
   "metadata": {},
   "outputs": [],
   "source": [
    "pyautogui.dragTo(300, 300, button='left')\n",
    "pyautogui.dragTo(400, 400, 2, button='left')\n",
    "pyautogui.dragRel(30, 0, 2, button='right')"
   ]
  },
  {
   "cell_type": "code",
   "execution_count": null,
   "metadata": {},
   "outputs": [],
   "source": []
  }
 ],
 "metadata": {
  "kernelspec": {
   "display_name": "web-venv",
   "language": "python",
   "name": "python3"
  },
  "language_info": {
   "codemirror_mode": {
    "name": "ipython",
    "version": 3
   },
   "file_extension": ".py",
   "mimetype": "text/x-python",
   "name": "python",
   "nbconvert_exporter": "python",
   "pygments_lexer": "ipython3",
   "version": "3.11.3"
  },
  "orig_nbformat": 4
 },
 "nbformat": 4,
 "nbformat_minor": 2
}
