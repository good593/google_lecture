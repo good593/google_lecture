{
 "cells": [
  {
   "attachments": {},
   "cell_type": "markdown",
   "metadata": {},
   "source": [
    "# [예제1 네이버 검색하기](https://tkdrms568.tistory.com/184)"
   ]
  },
  {
   "cell_type": "code",
   "execution_count": 36,
   "metadata": {},
   "outputs": [],
   "source": [
    "import time \n",
    "from selenium import webdriver \n",
    "from selenium.webdriver.common.by import By \n",
    "from selenium.webdriver import Keys, ActionChains\n",
    "import pyperclip "
   ]
  },
  {
   "cell_type": "code",
   "execution_count": 37,
   "metadata": {},
   "outputs": [
    {
     "data": {
      "text/plain": [
       "'Darwin'"
      ]
     },
     "execution_count": 37,
     "metadata": {},
     "output_type": "execute_result"
    }
   ],
   "source": [
    "import platform \n",
    "os_base = platform.system()\n",
    "os_base"
   ]
  },
  {
   "cell_type": "code",
   "execution_count": 38,
   "metadata": {},
   "outputs": [],
   "source": [
    "driver = webdriver.Chrome() \n",
    "url = \"http://www.naver.com\"\n",
    "driver.get(url)\n",
    "driver.implicitly_wait(3)"
   ]
  },
  {
   "cell_type": "code",
   "execution_count": 39,
   "metadata": {},
   "outputs": [],
   "source": [
    "search_query = \"아이유\"\n",
    "\n",
    "query_id = driver.find_element(By.ID, value=\"query\")\n",
    "query_id.click()\n",
    "pyperclip.copy(search_query)\n",
    "driver.implicitly_wait(3)\n",
    "\n",
    "if os_base == 'Darwin':\n",
    "    query_id.send_keys(Keys.COMMAND, 'v') # 맥북인 경우 \n",
    "else:\n",
    "    query_id.send_keys(Keys.CONTROL, 'v') # 윈도우인 경우\n",
    "    \n",
    "driver.implicitly_wait(3)"
   ]
  },
  {
   "cell_type": "code",
   "execution_count": 40,
   "metadata": {},
   "outputs": [],
   "source": [
    "search_btn = driver.find_element(By.CLASS_NAME, value=\"btn_search\")\n",
    "search_btn.click()\n",
    "driver.implicitly_wait(3)"
   ]
  },
  {
   "attachments": {},
   "cell_type": "markdown",
   "metadata": {},
   "source": [
    "# [예제2 네이버 자동로그인](https://line-jjin.tistory.com/entry/python-%ED%8C%8C%EC%9D%B4%EC%8D%AC-selenium-%EB%84%A4%EC%9D%B4%EB%B2%84-%EC%9E%90%EB%8F%99%EB%A1%9C%EA%B7%B8%EC%9D%B8-%EC%BD%94%EB%93%9C-%EC%B5%9C%EC%8B%A0-22-10-14-%EA%B8%B0%EC%A4%80)"
   ]
  },
  {
   "cell_type": "code",
   "execution_count": 35,
   "metadata": {},
   "outputs": [],
   "source": [
    "import time \n",
    "from selenium import webdriver \n",
    "from selenium.webdriver.common.by import By \n",
    "from selenium.webdriver import Keys, ActionChains\n",
    "import pyperclip "
   ]
  },
  {
   "attachments": {},
   "cell_type": "markdown",
   "metadata": {},
   "source": [
    "## 1.네이버 화면 이동"
   ]
  },
  {
   "cell_type": "code",
   "execution_count": 29,
   "metadata": {},
   "outputs": [],
   "source": [
    "driver = webdriver.Chrome() \n",
    "url = \"http://www.naver.com\"\n",
    "driver.get(url)\n",
    "driver.implicitly_wait(3)"
   ]
  },
  {
   "attachments": {},
   "cell_type": "markdown",
   "metadata": {},
   "source": [
    "## 2.네이버 로그인 화면 이동"
   ]
  },
  {
   "cell_type": "code",
   "execution_count": 30,
   "metadata": {},
   "outputs": [],
   "source": [
    "elem = driver.find_element(By.CLASS_NAME, value=\"MyView-module__link_login___HpHMW\")\n",
    "elem.click()\n",
    "driver.implicitly_wait(3)"
   ]
  },
  {
   "attachments": {},
   "cell_type": "markdown",
   "metadata": {},
   "source": [
    "## 3.로그인"
   ]
  },
  {
   "cell_type": "code",
   "execution_count": 31,
   "metadata": {},
   "outputs": [
    {
     "data": {
      "text/plain": [
       "'Darwin'"
      ]
     },
     "execution_count": 31,
     "metadata": {},
     "output_type": "execute_result"
    }
   ],
   "source": [
    "import platform \n",
    "os_base = platform.system()\n",
    "os_base"
   ]
  },
  {
   "cell_type": "code",
   "execution_count": 32,
   "metadata": {},
   "outputs": [
    {
     "name": "stdout",
     "output_type": "stream",
     "text": [
      "None\n"
     ]
    }
   ],
   "source": [
    "user_id = \"아이디\"\n",
    "\n",
    "log_id = driver.find_element(By.ID, value=\"id\")\n",
    "log_id.click()\n",
    "pyperclip.copy(user_id)\n",
    "driver.implicitly_wait(3)\n",
    "\n",
    "if os_base == 'Darwin':\n",
    "    log_id.send_keys(Keys.COMMAND, 'v') # 맥북인 경우 \n",
    "else:\n",
    "    log_id.send_keys(Keys.CONTROL, 'v') # 윈도우인 경우\n",
    "    \n",
    "driver.implicitly_wait(3)"
   ]
  },
  {
   "cell_type": "code",
   "execution_count": 33,
   "metadata": {},
   "outputs": [],
   "source": [
    "user_pw = \"비밀번호\"\n",
    "\n",
    "log_pw = driver.find_element(By.ID, value=\"pw\")\n",
    "log_pw.click()\n",
    "pyperclip.copy(user_pw)\n",
    "driver.implicitly_wait(3)\n",
    "\n",
    "if os_base == 'Darwin':\n",
    "    log_pw.send_keys(Keys.COMMAND, 'v') # 맥북인 경우 \n",
    "else:\n",
    "    log_pw.send_keys(Keys.CONTROL, 'v') # 윈도우인 경우\n",
    "    \n",
    "driver.implicitly_wait(3)"
   ]
  },
  {
   "cell_type": "code",
   "execution_count": 34,
   "metadata": {},
   "outputs": [],
   "source": [
    "log_btn = driver.find_element(By.ID, value=\"log.login\")\n",
    "log_btn.click()\n",
    "driver.implicitly_wait(3)"
   ]
  },
  {
   "attachments": {},
   "cell_type": "markdown",
   "metadata": {},
   "source": [
    "# 이슈 리스트 \n",
    "- [Captcha 문제 해결 방법](https://stophyun.tistory.com/199)"
   ]
  },
  {
   "cell_type": "code",
   "execution_count": null,
   "metadata": {},
   "outputs": [],
   "source": []
  }
 ],
 "metadata": {
  "kernelspec": {
   "display_name": "web-venv",
   "language": "python",
   "name": "python3"
  },
  "language_info": {
   "codemirror_mode": {
    "name": "ipython",
    "version": 3
   },
   "file_extension": ".py",
   "mimetype": "text/x-python",
   "name": "python",
   "nbconvert_exporter": "python",
   "pygments_lexer": "ipython3",
   "version": "3.11.3"
  },
  "orig_nbformat": 4
 },
 "nbformat": 4,
 "nbformat_minor": 2
}
